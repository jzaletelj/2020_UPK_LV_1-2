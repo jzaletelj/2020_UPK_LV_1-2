{
 "cells": [
  {
   "metadata": {},
   "cell_type": "markdown",
   "source": "# Osnove programskega jezika Python\n\nPreizkusite osnove sitakse jezika Python.\n\n* Različni podatkovni tipi:\n    * Števila\n    * Nizi - Strings\n    * Izpis\n    * Lists\n    * Dictionaries\n    * Booleans\n    * Tuples \n    * Sets\n* Operatorji primerjanja\n* if,elif, else\n* for zanke\n* while zanke\n* range()\n* funkcije\n* metode\n____"
  },
  {
   "metadata": {},
   "cell_type": "markdown",
   "source": "## Podatkovni tipi\nPython podpira običajne podatkovne tipe, realna, cela števila in nize.\nPreizkusite računanje in zapis celih in realnih števil. Preizkusite računanje z osnovnimi računskimi operacijami +,-,**, /.\nDodajte celice za izračun primerov. \nKaj pomenijo računske operacije %, **** ? \n"
  },
  {
   "metadata": {
    "trusted": true,
    "pycharm": {
     "is_executing": false
    }
   },
   "cell_type": "code",
   "source": "10 + 1",
   "execution_count": 36,
   "outputs": [
    {
     "data": {
      "text/plain": "11"
     },
     "metadata": {},
     "output_type": "execute_result",
     "execution_count": 36
    }
   ]
  },
  {
   "metadata": {
    "trusted": true,
    "pycharm": {
     "is_executing": false
    }
   },
   "cell_type": "code",
   "source": "7 * 6",
   "execution_count": 37,
   "outputs": [
    {
     "data": {
      "text/plain": "42"
     },
     "metadata": {},
     "output_type": "execute_result",
     "execution_count": 37
    }
   ]
  },
  {
   "metadata": {
    "trusted": true,
    "pycharm": {
     "is_executing": false
    }
   },
   "cell_type": "code",
   "source": "",
   "execution_count": 2,
   "outputs": []
  },
  {
   "metadata": {
    "trusted": true,
    "pycharm": {
     "is_executing": false
    }
   },
   "cell_type": "code",
   "source": "5 % 2",
   "execution_count": 3,
   "outputs": [
    {
     "data": {
      "text/plain": "1"
     },
     "metadata": {},
     "output_type": "execute_result",
     "execution_count": 3
    }
   ]
  },
  {
   "metadata": {
    "trusted": true,
    "pycharm": {
     "is_executing": false
    }
   },
   "cell_type": "code",
   "source": "5**2\n",
   "execution_count": 4,
   "outputs": [
    {
     "data": {
      "text/plain": "25"
     },
     "metadata": {},
     "output_type": "execute_result",
     "execution_count": 4
    }
   ]
  },
  {
   "metadata": {
    "trusted": true,
    "pycharm": {
     "is_executing": false
    }
   },
   "cell_type": "code",
   "source": "",
   "execution_count": 4,
   "outputs": []
  },
  {
   "metadata": {},
   "cell_type": "markdown",
   "source": "#### Naloga 1.1: \nKakšnega tipa bo vrednost, če namesto 5 napišemo 5.0 ? Preizkusi.\n"
  },
  {
   "metadata": {
    "trusted": true,
    "pycharm": {
     "is_executing": false
    }
   },
   "cell_type": "code",
   "source": "",
   "execution_count": 4,
   "outputs": []
  },
  {
   "metadata": {
    "trusted": true,
    "pycharm": {
     "is_executing": false
    }
   },
   "cell_type": "code",
   "source": "",
   "execution_count": 4,
   "outputs": []
  },
  {
   "metadata": {
    "trusted": false,
    "pycharm": {
     "is_executing": false
    }
   },
   "cell_type": "code",
   "source": "(2 + 3) * (5 + 5)",
   "execution_count": 5,
   "outputs": [
    {
     "data": {
      "text/plain": "50"
     },
     "metadata": {},
     "output_type": "execute_result",
     "execution_count": 5
    }
   ]
  },
  {
   "metadata": {},
   "cell_type": "markdown",
   "source": "### Spremenljivke\nPotrebno je definirati samo ime spremenljive, ne pa tudi njenega podatkovnega tipa. Spremenljivka velja od prve definicije dalje, njena vidnost je v bloku kode, kjer je definirana (Globalna spremenljivka, lokalna - v metodi, v zanki ipd., v razredu). "
  },
  {
   "metadata": {
    "trusted": false,
    "pycharm": {
     "is_executing": false
    }
   },
   "cell_type": "code",
   "source": "# Imena spremenljivke ne moremo začeti s številko ali posebnim znakom\nname_of_var = 2",
   "execution_count": 6,
   "outputs": []
  },
  {
   "metadata": {
    "trusted": false,
    "pycharm": {
     "is_executing": false
    }
   },
   "cell_type": "code",
   "source": "x = 2\ny = 3",
   "execution_count": 7,
   "outputs": []
  },
  {
   "metadata": {
    "trusted": false,
    "pycharm": {
     "is_executing": false
    }
   },
   "cell_type": "code",
   "source": "z = x + y",
   "execution_count": 8,
   "outputs": []
  },
  {
   "metadata": {
    "trusted": false,
    "pycharm": {
     "is_executing": false
    }
   },
   "cell_type": "code",
   "source": "# izpis vrednosti spremenljivke\nz",
   "execution_count": 9,
   "outputs": [
    {
     "data": {
      "text/plain": "5"
     },
     "metadata": {},
     "output_type": "execute_result",
     "execution_count": 9
    }
   ]
  },
  {
   "metadata": {},
   "cell_type": "markdown",
   "source": "#### Naloga 1.2: \nUstvari spremeljivko vrednost_1 in ji priredi vrednost ulomka dveh celih števil (npr. 2013/465). Izpiši vrednost spremeljivke. Preveri rezultat, če uporabiš dva znaka deljenje:  //\n"
  },
  {
   "metadata": {
    "trusted": false,
    "pycharm": {
     "is_executing": false
    }
   },
   "cell_type": "code",
   "source": "",
   "execution_count": 9,
   "outputs": []
  },
  {
   "metadata": {},
   "cell_type": "markdown",
   "source": "### Nizi znakov (stringi)\nLahko jih definiramo v enojnih ali dvojnih narekovajih"
  },
  {
   "metadata": {
    "trusted": false,
    "pycharm": {
     "is_executing": false
    }
   },
   "cell_type": "code",
   "source": "'single quotes'",
   "execution_count": 10,
   "outputs": [
    {
     "data": {
      "text/plain": "'single quotes'"
     },
     "metadata": {},
     "output_type": "execute_result",
     "execution_count": 10
    }
   ]
  },
  {
   "metadata": {
    "trusted": false,
    "pycharm": {
     "is_executing": false
    }
   },
   "cell_type": "code",
   "source": "\"double quotes\"",
   "execution_count": 11,
   "outputs": [
    {
     "data": {
      "text/plain": "'double quotes'"
     },
     "metadata": {},
     "output_type": "execute_result",
     "execution_count": 11
    }
   ]
  },
  {
   "metadata": {
    "trusted": false,
    "pycharm": {
     "is_executing": false
    }
   },
   "cell_type": "code",
   "source": "\" wrap lot's of other quotes\"",
   "execution_count": 12,
   "outputs": [
    {
     "data": {
      "text/plain": "\" wrap lot's of other quotes\""
     },
     "metadata": {},
     "output_type": "execute_result",
     "execution_count": 12
    }
   ]
  },
  {
   "metadata": {},
   "cell_type": "markdown",
   "source": "#### Naloga 1.3: \nUstvari spremenljivko niz1 in ji priredi poljubno besedo. Ustvari spremeljivko niz2 in ji priredi vrednost. Seštej in prikaži rezultat."
  },
  {
   "metadata": {
    "trusted": false,
    "pycharm": {
     "is_executing": false
    }
   },
   "cell_type": "code",
   "source": "",
   "execution_count": 12,
   "outputs": []
  },
  {
   "metadata": {},
   "cell_type": "markdown",
   "source": "### Izvajanje funkcij\nFunkciji podamo parameter (vrednost, spremenljivko) in vrne rezultat"
  },
  {
   "metadata": {
    "trusted": false,
    "pycharm": {
     "is_executing": false
    }
   },
   "cell_type": "code",
   "source": "niz3 = str(z)\nniz3",
   "execution_count": 13,
   "outputs": [
    {
     "data": {
      "text/plain": "'5'"
     },
     "metadata": {},
     "output_type": "execute_result",
     "execution_count": 13
    }
   ]
  },
  {
   "metadata": {
    "trusted": false,
    "pycharm": {
     "is_executing": false
    }
   },
   "cell_type": "code",
   "source": "pow(2, 3) + abs(-2)",
   "execution_count": 14,
   "outputs": [
    {
     "data": {
      "text/plain": "10"
     },
     "metadata": {},
     "output_type": "execute_result",
     "execution_count": 14
    }
   ]
  },
  {
   "metadata": {
    "trusted": false,
    "pycharm": {
     "is_executing": false
    }
   },
   "cell_type": "code",
   "source": "",
   "execution_count": 14,
   "outputs": []
  },
  {
   "metadata": {},
   "cell_type": "markdown",
   "source": "### Izpisovanje\nUporabimo funkcijo print()"
  },
  {
   "metadata": {
    "collapsed": true,
    "trusted": false,
    "pycharm": {
     "is_executing": false
    }
   },
   "cell_type": "code",
   "source": "x = 'hello'",
   "execution_count": 15,
   "outputs": []
  },
  {
   "metadata": {
    "trusted": false,
    "pycharm": {
     "is_executing": false
    }
   },
   "cell_type": "code",
   "source": "x",
   "execution_count": 16,
   "outputs": [
    {
     "data": {
      "text/plain": "'hello'"
     },
     "metadata": {},
     "output_type": "execute_result",
     "execution_count": 16
    }
   ]
  },
  {
   "metadata": {
    "trusted": false,
    "pycharm": {
     "is_executing": false
    }
   },
   "cell_type": "code",
   "source": "print(x)",
   "execution_count": 17,
   "outputs": [
    {
     "name": "stdout",
     "text": [
      "hello\n"
     ],
     "output_type": "stream"
    }
   ]
  },
  {
   "metadata": {
    "collapsed": true,
    "trusted": false,
    "pycharm": {
     "is_executing": false
    }
   },
   "cell_type": "code",
   "source": "num = 12\nname = 'Sam'",
   "execution_count": 18,
   "outputs": []
  },
  {
   "metadata": {
    "trusted": false,
    "pycharm": {
     "is_executing": false
    }
   },
   "cell_type": "code",
   "source": "print('My number is: {one}, and my name is: {two}'.format(one=num,two=name))",
   "execution_count": 19,
   "outputs": [
    {
     "name": "stdout",
     "text": [
      "My number is: 12, and my name is: Sam\n"
     ],
     "output_type": "stream"
    }
   ]
  },
  {
   "metadata": {
    "trusted": false,
    "pycharm": {
     "is_executing": false
    }
   },
   "cell_type": "code",
   "source": "print('My number is: {}, and my name is: {}'.format(num,name))",
   "execution_count": 20,
   "outputs": [
    {
     "name": "stdout",
     "text": [
      "My number is: 12, and my name is: Sam\n"
     ],
     "output_type": "stream"
    }
   ]
  },
  {
   "metadata": {},
   "cell_type": "markdown",
   "source": "### Seznami - Lists\nDefiniramo ga z oglatim oklepajem. Seznam ima metode, ki jih lahko kličemo, npr. za dodajanje elementa."
  },
  {
   "metadata": {
    "trusted": true,
    "pycharm": {
     "is_executing": false
    }
   },
   "cell_type": "code",
   "source": "[1,2,3]",
   "execution_count": 21,
   "outputs": [
    {
     "data": {
      "text/plain": "[1, 2, 3]"
     },
     "metadata": {},
     "output_type": "execute_result",
     "execution_count": 21
    }
   ]
  },
  {
   "metadata": {
    "trusted": true,
    "pycharm": {
     "is_executing": false
    }
   },
   "cell_type": "code",
   "source": "['hi',1,[1,2]]",
   "execution_count": 22,
   "outputs": [
    {
     "data": {
      "text/plain": "['hi', 1, [1, 2]]"
     },
     "metadata": {},
     "output_type": "execute_result",
     "execution_count": 22
    }
   ]
  },
  {
   "metadata": {
    "trusted": true,
    "pycharm": {
     "is_executing": false
    }
   },
   "cell_type": "code",
   "source": "my_list = ['a','b','c']",
   "execution_count": 23,
   "outputs": []
  },
  {
   "metadata": {
    "trusted": true,
    "pycharm": {
     "is_executing": false
    }
   },
   "cell_type": "code",
   "source": "# Dodajanje v seznam\nmy_list.append('d')\nmy_list",
   "execution_count": 24,
   "outputs": [
    {
     "data": {
      "text/plain": "['a', 'b', 'c', 'd']"
     },
     "metadata": {},
     "output_type": "execute_result",
     "execution_count": 24
    }
   ]
  },
  {
   "metadata": {
    "trusted": true,
    "pycharm": {
     "is_executing": false
    }
   },
   "cell_type": "code",
   "source": "# Pridobivanje objektov iz seznama\nmy_list[0]",
   "execution_count": 25,
   "outputs": [
    {
     "data": {
      "text/plain": "'a'"
     },
     "metadata": {},
     "output_type": "execute_result",
     "execution_count": 25
    }
   ]
  },
  {
   "metadata": {
    "trusted": true,
    "pycharm": {
     "is_executing": false
    }
   },
   "cell_type": "code",
   "source": "my_list[1]",
   "execution_count": 26,
   "outputs": [
    {
     "data": {
      "text/plain": "'b'"
     },
     "metadata": {},
     "output_type": "execute_result",
     "execution_count": 26
    }
   ]
  },
  {
   "metadata": {
    "trusted": true,
    "pycharm": {
     "is_executing": false
    }
   },
   "cell_type": "code",
   "source": "# Definiramo območje indeksov \nmy_list[1:]",
   "execution_count": 27,
   "outputs": [
    {
     "data": {
      "text/plain": "['b', 'c', 'd']"
     },
     "metadata": {},
     "output_type": "execute_result",
     "execution_count": 27
    }
   ]
  },
  {
   "metadata": {
    "trusted": true,
    "pycharm": {
     "is_executing": false
    }
   },
   "cell_type": "code",
   "source": "my_list[:1]",
   "execution_count": 28,
   "outputs": [
    {
     "data": {
      "text/plain": "['a']"
     },
     "metadata": {},
     "output_type": "execute_result",
     "execution_count": 28
    }
   ]
  },
  {
   "metadata": {
    "collapsed": true,
    "trusted": false,
    "pycharm": {
     "is_executing": false
    }
   },
   "cell_type": "code",
   "source": "my_list[0] = 'NEW'",
   "execution_count": 29,
   "outputs": []
  },
  {
   "metadata": {
    "trusted": false,
    "pycharm": {
     "is_executing": false
    }
   },
   "cell_type": "code",
   "source": "my_list",
   "execution_count": 30,
   "outputs": [
    {
     "data": {
      "text/plain": "['NEW', 'b', 'c', 'd']"
     },
     "metadata": {},
     "output_type": "execute_result",
     "execution_count": 30
    }
   ]
  },
  {
   "metadata": {},
   "cell_type": "markdown",
   "source": "#### Naloga 1.4: \nV zgornji seznam dodaj novo vrednost 'e'. \nNato izloči seznam treh srednjih objektov, in ga izpiši s print"
  },
  {
   "metadata": {
    "trusted": false,
    "pycharm": {
     "is_executing": false
    }
   },
   "cell_type": "code",
   "source": "",
   "execution_count": 30,
   "outputs": []
  },
  {
   "metadata": {},
   "cell_type": "markdown",
   "source": "### Dictionaries: slovar\npari ključ - objekt, objekt pridobimo preko ključa"
  },
  {
   "metadata": {
    "trusted": true,
    "pycharm": {
     "is_executing": false
    }
   },
   "cell_type": "code",
   "source": "d = {'key1':'item1','key2':'item2'}",
   "execution_count": 31,
   "outputs": []
  },
  {
   "metadata": {
    "trusted": true,
    "pycharm": {
     "is_executing": false
    }
   },
   "cell_type": "code",
   "source": "d",
   "execution_count": 32,
   "outputs": [
    {
     "data": {
      "text/plain": "{'key1': 'item1', 'key2': 'item2'}"
     },
     "metadata": {},
     "output_type": "execute_result",
     "execution_count": 32
    }
   ]
  },
  {
   "metadata": {
    "trusted": true,
    "pycharm": {
     "is_executing": false
    }
   },
   "cell_type": "code",
   "source": "d['key1']",
   "execution_count": 33,
   "outputs": [
    {
     "data": {
      "text/plain": "'item1'"
     },
     "metadata": {},
     "output_type": "execute_result",
     "execution_count": 33
    }
   ]
  },
  {
   "metadata": {
    "trusted": true,
    "pycharm": {
     "is_executing": false
    }
   },
   "cell_type": "code",
   "source": "d['a']",
   "execution_count": 34,
   "outputs": [
    {
     "traceback": [
      "\u001b[1;31m---------------------------------------------------------------------------\u001b[0m",
      "\u001b[1;31mKeyError\u001b[0m                                  Traceback (most recent call last)",
      "\u001b[1;32m<ipython-input-34-ea88df56082a>\u001b[0m in \u001b[0;36m<module>\u001b[1;34m\u001b[0m\n\u001b[1;32m----> 1\u001b[1;33m \u001b[0md\u001b[0m\u001b[1;33m[\u001b[0m\u001b[1;34m'a'\u001b[0m\u001b[1;33m]\u001b[0m\u001b[1;33m\u001b[0m\u001b[1;33m\u001b[0m\u001b[0m\n\u001b[0m\u001b[0;32m      2\u001b[0m \u001b[1;33m\u001b[0m\u001b[0m\n",
      "\u001b[1;31mKeyError\u001b[0m: 'a'"
     ],
     "ename": "KeyError",
     "evalue": "'a'",
     "output_type": "error"
    }
   ]
  },
  {
   "metadata": {},
   "cell_type": "markdown",
   "source": "### Booleans"
  },
  {
   "metadata": {
    "trusted": false,
    "pycharm": {
     "is_executing": false
    }
   },
   "cell_type": "code",
   "source": "True",
   "execution_count": null,
   "outputs": []
  },
  {
   "metadata": {
    "trusted": false,
    "pycharm": {
     "is_executing": false
    }
   },
   "cell_type": "code",
   "source": "False",
   "execution_count": null,
   "outputs": []
  },
  {
   "metadata": {},
   "cell_type": "markdown",
   "source": "### Tuples \nso kot seznami, vendar ne moremo spreminjati, dodajati elementov.."
  },
  {
   "metadata": {
    "trusted": false,
    "pycharm": {
     "is_executing": false
    }
   },
   "cell_type": "code",
   "source": "t = (1,2,3)",
   "execution_count": null,
   "outputs": []
  },
  {
   "metadata": {
    "trusted": false,
    "pycharm": {
     "is_executing": false
    }
   },
   "cell_type": "code",
   "source": "t[0]",
   "execution_count": null,
   "outputs": []
  },
  {
   "metadata": {
    "trusted": false,
    "pycharm": {
     "is_executing": false
    }
   },
   "cell_type": "code",
   "source": "t[0] = 'NEW'",
   "execution_count": null,
   "outputs": []
  },
  {
   "metadata": {},
   "cell_type": "markdown",
   "source": "### Sets\nZbirke objektov: vsak različen objekt se pojavi samo enkrat"
  },
  {
   "metadata": {
    "trusted": false,
    "pycharm": {
     "is_executing": false
    }
   },
   "cell_type": "code",
   "source": "{1,2,3}",
   "execution_count": null,
   "outputs": []
  },
  {
   "metadata": {
    "trusted": false,
    "pycharm": {
     "is_executing": false
    }
   },
   "cell_type": "code",
   "source": "{1,2,3,1,2,1,2,3,3,3,3,2,2,2,1,1,2}",
   "execution_count": null,
   "outputs": []
  },
  {
   "metadata": {},
   "cell_type": "markdown",
   "source": "## Operacije primerjanja"
  },
  {
   "metadata": {
    "trusted": false,
    "pycharm": {
     "is_executing": false
    }
   },
   "cell_type": "code",
   "source": "1 > 2",
   "execution_count": null,
   "outputs": []
  },
  {
   "metadata": {
    "trusted": false,
    "pycharm": {
     "is_executing": false
    }
   },
   "cell_type": "code",
   "source": "1 < 2",
   "execution_count": null,
   "outputs": []
  },
  {
   "metadata": {
    "trusted": false,
    "pycharm": {
     "is_executing": false
    }
   },
   "cell_type": "code",
   "source": "1 >= 1",
   "execution_count": null,
   "outputs": []
  },
  {
   "metadata": {
    "trusted": false,
    "pycharm": {
     "is_executing": false
    }
   },
   "cell_type": "code",
   "source": "1 <= 4",
   "execution_count": null,
   "outputs": []
  },
  {
   "metadata": {
    "trusted": false,
    "pycharm": {
     "is_executing": false
    }
   },
   "cell_type": "code",
   "source": "1 == 1",
   "execution_count": null,
   "outputs": []
  },
  {
   "metadata": {
    "trusted": false,
    "pycharm": {
     "is_executing": false
    }
   },
   "cell_type": "code",
   "source": "'hi' == 'bye'",
   "execution_count": null,
   "outputs": []
  },
  {
   "metadata": {},
   "cell_type": "markdown",
   "source": "## Logični operatorji"
  },
  {
   "metadata": {
    "trusted": false,
    "pycharm": {
     "is_executing": false
    }
   },
   "cell_type": "code",
   "source": "(1 > 2) and (2 < 3)",
   "execution_count": null,
   "outputs": []
  },
  {
   "metadata": {
    "trusted": false,
    "pycharm": {
     "is_executing": false
    }
   },
   "cell_type": "code",
   "source": "(1 > 2) or (2 < 3)",
   "execution_count": null,
   "outputs": []
  },
  {
   "metadata": {
    "trusted": false,
    "pycharm": {
     "is_executing": false
    }
   },
   "cell_type": "code",
   "source": "(1 == 2) or (2 == 3) or (4 == 4)",
   "execution_count": null,
   "outputs": []
  },
  {
   "metadata": {},
   "cell_type": "markdown",
   "source": "## if,elif, else stavki\nPaziti moramo na zamikanje vrstic, običajno 4 presledki."
  },
  {
   "metadata": {
    "trusted": true,
    "pycharm": {
     "is_executing": false
    }
   },
   "cell_type": "code",
   "source": "if 1 < 2:\n    print('Yep!')",
   "execution_count": null,
   "outputs": []
  },
  {
   "metadata": {
    "trusted": true,
    "pycharm": {
     "is_executing": false
    }
   },
   "cell_type": "code",
   "source": "if 1 < 2:\n    print('yep!')",
   "execution_count": null,
   "outputs": []
  },
  {
   "metadata": {
    "trusted": true,
    "pycharm": {
     "is_executing": false
    }
   },
   "cell_type": "code",
   "source": "if 1 < 2:\n    print('first')\nelse:\n    print('last')",
   "execution_count": null,
   "outputs": []
  },
  {
   "metadata": {
    "trusted": true,
    "pycharm": {
     "is_executing": false
    }
   },
   "cell_type": "code",
   "source": "if 1 > 2:\n    print('first')\nelse:\n    print('last')",
   "execution_count": null,
   "outputs": []
  },
  {
   "metadata": {
    "trusted": true,
    "pycharm": {
     "is_executing": false
    }
   },
   "cell_type": "code",
   "source": "",
   "execution_count": null,
   "outputs": []
  },
  {
   "metadata": {
    "trusted": true,
    "pycharm": {
     "is_executing": false
    }
   },
   "cell_type": "code",
   "source": "a='miha'",
   "execution_count": null,
   "outputs": []
  },
  {
   "metadata": {
    "trusted": true,
    "pycharm": {
     "is_executing": false
    }
   },
   "cell_type": "code",
   "source": "if 1 == 2:\n    print('first')\nelif a == 'miha':\n    print('middle')\nelse:\n    print('Last')",
   "execution_count": null,
   "outputs": []
  },
  {
   "metadata": {},
   "cell_type": "markdown",
   "source": "## for zanke\nrange() uporabimo za definiranje obsega vrednosti spremenljivke"
  },
  {
   "metadata": {
    "trusted": false,
    "pycharm": {
     "is_executing": false
    }
   },
   "cell_type": "code",
   "source": "seq = [1,2,3,4,5]",
   "execution_count": null,
   "outputs": []
  },
  {
   "metadata": {
    "trusted": false,
    "pycharm": {
     "is_executing": false
    }
   },
   "cell_type": "code",
   "source": "# Izpisemo vse vrednosti v seznamu\nfor item in seq:\n    print(item)",
   "execution_count": null,
   "outputs": []
  },
  {
   "metadata": {
    "trusted": false,
    "pycharm": {
     "is_executing": false
    }
   },
   "cell_type": "code",
   "source": "for i in range(10):\n    print('-- {} '.format(i))",
   "execution_count": null,
   "outputs": []
  },
  {
   "metadata": {
    "trusted": true,
    "pycharm": {
     "is_executing": false
    }
   },
   "cell_type": "code",
   "source": "range(3).count(1)",
   "execution_count": null,
   "outputs": []
  },
  {
   "metadata": {
    "trusted": true,
    "pycharm": {
     "is_executing": false
    }
   },
   "cell_type": "code",
   "source": "i",
   "execution_count": null,
   "outputs": []
  },
  {
   "metadata": {},
   "cell_type": "markdown",
   "source": "## while zanke"
  },
  {
   "metadata": {
    "trusted": false,
    "pycharm": {
     "is_executing": false
    }
   },
   "cell_type": "code",
   "source": "i = 1\nwhile i < 5:\n    print('i is: {}'.format(i))\n    i = i+1",
   "execution_count": null,
   "outputs": []
  },
  {
   "metadata": {},
   "cell_type": "markdown",
   "source": "## range()"
  },
  {
   "metadata": {
    "trusted": false,
    "pycharm": {
     "is_executing": false
    }
   },
   "cell_type": "code",
   "source": "range(5)",
   "execution_count": null,
   "outputs": []
  },
  {
   "metadata": {
    "trusted": false,
    "pycharm": {
     "is_executing": false
    }
   },
   "cell_type": "code",
   "source": "for i in range(5):\n    print(i)",
   "execution_count": null,
   "outputs": []
  },
  {
   "metadata": {
    "trusted": false,
    "pycharm": {
     "is_executing": false
    }
   },
   "cell_type": "code",
   "source": "list(range(5))",
   "execution_count": null,
   "outputs": []
  },
  {
   "metadata": {},
   "cell_type": "markdown",
   "source": "## list comprehension\nKrajši zapis generiranja vrednosti"
  },
  {
   "metadata": {
    "collapsed": true,
    "trusted": false,
    "pycharm": {
     "is_executing": false
    }
   },
   "cell_type": "code",
   "source": "x = [1,2,3,4]",
   "execution_count": null,
   "outputs": []
  },
  {
   "metadata": {
    "trusted": false,
    "pycharm": {
     "is_executing": false
    }
   },
   "cell_type": "code",
   "source": "out = []\nfor item in x:\n    out.append(item**2)\nprint(out)",
   "execution_count": null,
   "outputs": []
  },
  {
   "metadata": {
    "trusted": false,
    "pycharm": {
     "is_executing": false
    }
   },
   "cell_type": "code",
   "source": "[item**2 for item in x]",
   "execution_count": null,
   "outputs": []
  },
  {
   "metadata": {},
   "cell_type": "markdown",
   "source": "## Definiranje funkcij\nNotranjost (telo) funkcije je zamaknjeno. \nParametri funkcije imajo lahko preddefinirane vrednosti (če jih ne podamo)"
  },
  {
   "metadata": {
    "trusted": true,
    "pycharm": {
     "is_executing": false
    }
   },
   "cell_type": "code",
   "source": "def my_func(param1='default'):\n    \"\"\"\n    Docstring : komentar funkcije v vec vrsticah\n    \"\"\"\n    print(param1)",
   "execution_count": null,
   "outputs": []
  },
  {
   "metadata": {
    "trusted": true,
    "pycharm": {
     "is_executing": false
    }
   },
   "cell_type": "code",
   "source": "my_func",
   "execution_count": null,
   "outputs": []
  },
  {
   "metadata": {
    "trusted": false,
    "pycharm": {
     "is_executing": false
    }
   },
   "cell_type": "code",
   "source": "my_func()",
   "execution_count": null,
   "outputs": []
  },
  {
   "metadata": {
    "trusted": false,
    "pycharm": {
     "is_executing": false
    }
   },
   "cell_type": "code",
   "source": "my_func('new param')",
   "execution_count": null,
   "outputs": []
  },
  {
   "metadata": {
    "trusted": false,
    "pycharm": {
     "is_executing": false
    }
   },
   "cell_type": "code",
   "source": "my_func(param1='new param')",
   "execution_count": null,
   "outputs": []
  },
  {
   "metadata": {
    "collapsed": true,
    "trusted": false,
    "pycharm": {
     "is_executing": false
    }
   },
   "cell_type": "code",
   "source": "def square(x):\n    return x**2",
   "execution_count": null,
   "outputs": []
  },
  {
   "metadata": {
    "collapsed": true,
    "trusted": false,
    "pycharm": {
     "is_executing": false
    }
   },
   "cell_type": "code",
   "source": "out = square(2)",
   "execution_count": null,
   "outputs": []
  },
  {
   "metadata": {
    "scrolled": true,
    "trusted": false,
    "pycharm": {
     "is_executing": false
    }
   },
   "cell_type": "code",
   "source": "print(out)",
   "execution_count": null,
   "outputs": []
  },
  {
   "metadata": {},
   "cell_type": "markdown",
   "source": "#### Naloga 1.5: \nDefiniraj metodo najdiStevilo z dvema parametroma, seznam in stevilo. \nMetoda naj preveri, ali se stevilo nahaja v podanem seznamu, in vrne true ali false. Metoda naj tudi izpiše najdeno število, sicer pa '---'. \n"
  },
  {
   "metadata": {
    "trusted": false,
    "pycharm": {
     "is_executing": false
    }
   },
   "cell_type": "code",
   "source": "# Primer vhodnega podatka, seznama\nsezn = [1,4,62,3,4,321,3]",
   "execution_count": null,
   "outputs": []
  },
  {
   "metadata": {
    "trusted": false,
    "pycharm": {
     "is_executing": false
    }
   },
   "cell_type": "code",
   "source": "# Tukaj sprogramiraj metodo\n# def najdiStevilo (seznam, stevilo):\n",
   "execution_count": null,
   "outputs": []
  },
  {
   "metadata": {
    "trusted": false,
    "pycharm": {
     "is_executing": false
    }
   },
   "cell_type": "code",
   "source": "# Preveri delovanje metode: Klic metode na podanem seznamu\n",
   "execution_count": null,
   "outputs": []
  },
  {
   "metadata": {},
   "cell_type": "markdown",
   "source": "## Metode objektov\nRazred String ima metode za delo z nizi znakov"
  },
  {
   "metadata": {
    "trusted": false,
    "pycharm": {
     "is_executing": false
    }
   },
   "cell_type": "code",
   "source": "",
   "execution_count": null,
   "outputs": []
  },
  {
   "metadata": {
    "trusted": false,
    "pycharm": {
     "is_executing": false
    }
   },
   "cell_type": "code",
   "source": "st = 'hello my name is Sam'",
   "execution_count": null,
   "outputs": []
  },
  {
   "metadata": {
    "trusted": false,
    "pycharm": {
     "is_executing": false
    }
   },
   "cell_type": "code",
   "source": "st.lower()",
   "execution_count": null,
   "outputs": []
  },
  {
   "metadata": {
    "trusted": false,
    "pycharm": {
     "is_executing": false
    }
   },
   "cell_type": "code",
   "source": "st.upper()",
   "execution_count": null,
   "outputs": []
  },
  {
   "metadata": {
    "trusted": false,
    "pycharm": {
     "is_executing": false
    }
   },
   "cell_type": "code",
   "source": "st.split()",
   "execution_count": null,
   "outputs": []
  },
  {
   "metadata": {
    "collapsed": true,
    "trusted": false,
    "pycharm": {
     "is_executing": false
    }
   },
   "cell_type": "code",
   "source": "tweet = 'Go Sports! #Sports'",
   "execution_count": null,
   "outputs": []
  },
  {
   "metadata": {
    "trusted": false,
    "pycharm": {
     "is_executing": false
    }
   },
   "cell_type": "code",
   "source": "tweet.split('#')",
   "execution_count": null,
   "outputs": []
  },
  {
   "metadata": {
    "trusted": false,
    "pycharm": {
     "is_executing": false
    }
   },
   "cell_type": "code",
   "source": "tweet.split('#')[1]",
   "execution_count": null,
   "outputs": []
  },
  {
   "metadata": {
    "trusted": false,
    "pycharm": {
     "is_executing": false
    }
   },
   "cell_type": "code",
   "source": "d",
   "execution_count": null,
   "outputs": []
  },
  {
   "metadata": {
    "trusted": false,
    "pycharm": {
     "is_executing": false
    }
   },
   "cell_type": "code",
   "source": "d.keys()",
   "execution_count": null,
   "outputs": []
  },
  {
   "metadata": {
    "trusted": false,
    "pycharm": {
     "is_executing": false
    }
   },
   "cell_type": "code",
   "source": "d.items()",
   "execution_count": null,
   "outputs": []
  },
  {
   "metadata": {
    "collapsed": true,
    "trusted": false,
    "pycharm": {
     "is_executing": false
    }
   },
   "cell_type": "code",
   "source": "lst = [1,2,3]",
   "execution_count": null,
   "outputs": []
  },
  {
   "metadata": {
    "trusted": false,
    "pycharm": {
     "is_executing": false
    }
   },
   "cell_type": "code",
   "source": "lst.pop()",
   "execution_count": null,
   "outputs": []
  },
  {
   "metadata": {
    "trusted": false,
    "pycharm": {
     "is_executing": false
    }
   },
   "cell_type": "code",
   "source": "lst",
   "execution_count": null,
   "outputs": []
  },
  {
   "metadata": {
    "trusted": false,
    "pycharm": {
     "is_executing": false
    }
   },
   "cell_type": "code",
   "source": "# Preveri, ali se vrednost nahaja v seznamu\n'x' in [1,2,3]",
   "execution_count": null,
   "outputs": []
  },
  {
   "metadata": {
    "trusted": false,
    "pycharm": {
     "is_executing": false
    }
   },
   "cell_type": "code",
   "source": "'x' in ['x','y','z']",
   "execution_count": null,
   "outputs": []
  },
  {
   "metadata": {},
   "cell_type": "markdown",
   "source": "### Naloga\nIzdelaj daljši niz besed (stavek) in ga zapiši v spremenljivko. Preveri in uporabi metode, ki jih ponuja objekt String (preglej pomoč). V vsaki celici komentiraj rezultat meode (kaj naredi) s pomočjo komentarja."
  },
  {
   "metadata": {
    "trusted": false,
    "pycharm": {
     "is_executing": false
    }
   },
   "cell_type": "code",
   "source": "# Komentar kode in rezultata\n\n",
   "execution_count": null,
   "outputs": []
  },
  {
   "metadata": {
    "trusted": false,
    "pycharm": {
     "is_executing": false
    }
   },
   "cell_type": "code",
   "source": "",
   "execution_count": null,
   "outputs": []
  },
  {
   "metadata": {
    "trusted": false,
    "pycharm": {
     "is_executing": false
    }
   },
   "cell_type": "code",
   "source": "",
   "execution_count": null,
   "outputs": []
  },
  {
   "metadata": {
    "trusted": false,
    "pycharm": {
     "is_executing": false
    }
   },
   "cell_type": "code",
   "source": "",
   "execution_count": null,
   "outputs": []
  }
 ],
 "metadata": {
  "kernelspec": {
   "name": "python3",
   "display_name": "Python 3",
   "language": "python"
  },
  "language_info": {
   "mimetype": "text/x-python",
   "nbconvert_exporter": "python",
   "name": "python",
   "pygments_lexer": "ipython3",
   "version": "3.5.4",
   "file_extension": ".py",
   "codemirror_mode": {
    "version": 3,
    "name": "ipython"
   }
  }
 },
 "nbformat": 4,
 "nbformat_minor": 1
}