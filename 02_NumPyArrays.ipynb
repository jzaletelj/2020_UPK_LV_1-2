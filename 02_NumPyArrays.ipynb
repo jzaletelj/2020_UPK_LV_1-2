{
  "cells": [
    {
      "metadata": {},
      "cell_type": "markdown",
      "source": [
        "# NumPy \n",
        "\n",
        "NumPy je matematična knjižnjica za linearno algebro, in je ena temeljev za računanje z matrikami (Array). \n",
        "Najprej vedno uvozimo z ukazom import in potem uporabljamo spremenljivko np za klice metod."
      ]
    },
    {
      "metadata": {
        "trusted": true
      },
      "cell_type": "code",
      "source": [
        "import numpy as np"
      ],
      "execution_count": 1,
      "outputs": []
    },
    {
      "metadata": {},
      "cell_type": "markdown",
      "source": [
        "Numpy vsebuje veliko funkcij, osredotočimo se na delo z vektorji, arrayi, matrikami.\n",
        "\n",
        "# Numpy Array\n",
        "\n",
        "To so vektorji (1-d polja) in matrike (2-d polja). \n",
        "\n",
        "## Kreiranje vektorjev in matrik (arrayev)\n",
        "\n",
        "###  iz obstoječega seznama - List\n"
      ]
    },
    {
      "metadata": {
        "trusted": true
      },
      "cell_type": "code",
      "source": [
        "my_list = [1,2,3]\n",
        "my_list"
      ],
      "execution_count": 2,
      "outputs": [
        {
          "output_type": "execute_result",
          "data": {
            "text/plain": "[1, 2, 3]"
          },
          "metadata": {},
          "execution_count": 2
        }
      ]
    },
    {
      "metadata": {
        "trusted": true
      },
      "cell_type": "code",
      "source": [
        "# Kreiramo array tako da pokličemo metodo array\n",
        "np.array(my_list)"
      ],
      "execution_count": 3,
      "outputs": [
        {
          "output_type": "execute_result",
          "data": {
            "text/plain": "array([1, 2, 3])"
          },
          "metadata": {},
          "execution_count": 3
        }
      ]
    },
    {
      "metadata": {
        "trusted": true
      },
      "cell_type": "code",
      "source": [
        "my_matrix = [[1,2,3],[4,5,6],[7,8,9]]\n",
        "my_matrix"
      ],
      "execution_count": 4,
      "outputs": [
        {
          "output_type": "execute_result",
          "data": {
            "text/plain": "[[1, 2, 3], [4, 5, 6], [7, 8, 9]]"
          },
          "metadata": {},
          "execution_count": 4
        }
      ]
    },
    {
      "metadata": {
        "trusted": true,
        "tags": []
      },
      "cell_type": "code",
      "source": [
        "mat1 = np.array(my_matrix)\n",
        "print(mat1)\n",
        "mat1[2,2]"
      ],
      "execution_count": 9,
      "outputs": [
        {
          "output_type": "stream",
          "name": "stdout",
          "text": "[[1 2 3]\n [4 5 6]\n [7 8 9]]\n"
        },
        {
          "output_type": "execute_result",
          "data": {
            "text/plain": "9"
          },
          "metadata": {},
          "execution_count": 9
        }
      ]
    },
    {
      "metadata": {},
      "cell_type": "markdown",
      "source": [
        "## Vgrajene metode za generacijo matrik\n",
        "\n",
        "### arange: vrača enakom. razporejene vrednosti v intervalu\n"
      ]
    },
    {
      "metadata": {
        "trusted": true
      },
      "cell_type": "code",
      "source": [
        "np.arange(0,10,2)"
      ],
      "execution_count": 13,
      "outputs": [
        {
          "output_type": "execute_result",
          "execution_count": 13,
          "data": {
            "text/plain": "array([0, 2, 4, 6, 8])"
          },
          "metadata": {}
        }
      ]
    },
    {
      "metadata": {
        "trusted": true
      },
      "cell_type": "code",
      "source": [
        "# Kaksne so opcije metode arange? Preglej pomoč in preizkusi\n",
        "# np.arange( ... "
      ],
      "execution_count": 35,
      "outputs": []
    },
    {
      "metadata": {},
      "cell_type": "markdown",
      "source": [
        "### zeros in ones"
      ]
    },
    {
      "metadata": {
        "trusted": true
      },
      "cell_type": "code",
      "source": [
        "np.zeros(3)"
      ],
      "execution_count": 36,
      "outputs": [
        {
          "output_type": "execute_result",
          "execution_count": 36,
          "data": {
            "text/plain": "array([0., 0., 0.])"
          },
          "metadata": {}
        }
      ]
    },
    {
      "metadata": {
        "trusted": true
      },
      "cell_type": "code",
      "source": [
        "# np.zeros((5,5))"
      ],
      "execution_count": 37,
      "outputs": []
    },
    {
      "metadata": {
        "trusted": true
      },
      "cell_type": "code",
      "source": [
        "np.ones(3)"
      ],
      "execution_count": 38,
      "outputs": [
        {
          "output_type": "execute_result",
          "execution_count": 38,
          "data": {
            "text/plain": "array([1., 1., 1.])"
          },
          "metadata": {}
        }
      ]
    },
    {
      "metadata": {
        "trusted": true
      },
      "cell_type": "code",
      "source": [
        "np.ones((3,3))"
      ],
      "execution_count": 15,
      "outputs": [
        {
          "output_type": "execute_result",
          "execution_count": 15,
          "data": {
            "text/plain": "array([[1., 1., 1.],\n       [1., 1., 1.],\n       [1., 1., 1.]])"
          },
          "metadata": {}
        }
      ]
    },
    {
      "metadata": {},
      "cell_type": "markdown",
      "source": [
        "### linspace\n",
        "Vrača enakomerno razporejena števila v intervalu."
      ]
    },
    {
      "metadata": {
        "trusted": true
      },
      "cell_type": "code",
      "source": [
        "np.linspace(0,10,3)"
      ],
      "execution_count": 40,
      "outputs": [
        {
          "output_type": "execute_result",
          "execution_count": 40,
          "data": {
            "text/plain": "array([ 0.,  5., 10.])"
          },
          "metadata": {}
        }
      ]
    },
    {
      "metadata": {
        "trusted": true
      },
      "cell_type": "code",
      "source": [
        "# np.linspace(0,10,50)"
      ],
      "execution_count": 41,
      "outputs": []
    },
    {
      "metadata": {},
      "cell_type": "markdown",
      "source": [
        "## eye\n",
        "\n",
        "Enotske matrike"
      ]
    },
    {
      "metadata": {
        "trusted": true
      },
      "cell_type": "code",
      "source": [
        "np.eye(4)"
      ],
      "execution_count": 16,
      "outputs": [
        {
          "output_type": "execute_result",
          "execution_count": 16,
          "data": {
            "text/plain": "array([[1., 0., 0., 0.],\n       [0., 1., 0., 0.],\n       [0., 0., 1., 0.],\n       [0., 0., 0., 1.]])"
          },
          "metadata": {}
        }
      ]
    },
    {
      "metadata": {},
      "cell_type": "markdown",
      "source": [
        "## Random \n",
        "\n",
        "Metode za kreiranje naključnih števil.\n",
        "\n",
        "### rand\n",
        "Vrača polje naklj. števil med 0 in 1."
      ]
    },
    {
      "metadata": {
        "trusted": true
      },
      "cell_type": "code",
      "source": [
        "np.random.rand(2)"
      ],
      "execution_count": 43,
      "outputs": [
        {
          "output_type": "execute_result",
          "execution_count": 43,
          "data": {
            "text/plain": "array([0.67705426, 0.91500411])"
          },
          "metadata": {}
        }
      ]
    },
    {
      "metadata": {
        "trusted": true
      },
      "cell_type": "code",
      "source": [
        "# np.random.rand(5,5)"
      ],
      "execution_count": 44,
      "outputs": []
    },
    {
      "metadata": {},
      "cell_type": "markdown",
      "source": [
        "### randn\n",
        "\n",
        "Vrača normalno razporejena naklj. števila"
      ]
    },
    {
      "metadata": {
        "trusted": true
      },
      "cell_type": "code",
      "source": [
        "np.random.randn(2)"
      ],
      "execution_count": 45,
      "outputs": [
        {
          "output_type": "execute_result",
          "execution_count": 45,
          "data": {
            "text/plain": "array([-0.26820189,  0.40540353])"
          },
          "metadata": {}
        }
      ]
    },
    {
      "metadata": {
        "trusted": true
      },
      "cell_type": "code",
      "source": [
        "np.random.randn(5,5)"
      ],
      "execution_count": 17,
      "outputs": [
        {
          "output_type": "execute_result",
          "execution_count": 17,
          "data": {
            "text/plain": "array([[-0.75586339, -0.1354562 ,  2.13717037,  0.08873227,  0.39763546],\n       [ 0.91514881,  0.14227235,  0.50379888,  0.20313001,  0.95001401],\n       [ 0.71700127, -1.37313682,  0.92823874, -0.0120876 ,  0.61200858],\n       [-0.04954654, -1.53524591,  2.49517835,  2.08237713,  0.61224498],\n       [ 0.45767246,  0.6394837 , -0.28436229,  0.36399255,  0.42908931]])"
          },
          "metadata": {}
        }
      ]
    },
    {
      "metadata": {},
      "cell_type": "markdown",
      "source": [
        "### randint\n",
        "Naklj.števila v podanem območju"
      ]
    },
    {
      "metadata": {
        "trusted": true
      },
      "cell_type": "code",
      "source": [
        "np.random.randint(1,100)"
      ],
      "execution_count": 46,
      "outputs": [
        {
          "output_type": "execute_result",
          "execution_count": 46,
          "data": {
            "text/plain": "33"
          },
          "metadata": {}
        }
      ]
    },
    {
      "metadata": {
        "trusted": true
      },
      "cell_type": "code",
      "source": [
        "np.random.randint(1,100,10)"
      ],
      "execution_count": 47,
      "outputs": [
        {
          "output_type": "execute_result",
          "execution_count": 47,
          "data": {
            "text/plain": "array([58, 56,  7, 95, 65, 78, 66, 26, 44, 76])"
          },
          "metadata": {}
        }
      ]
    },
    {
      "metadata": {},
      "cell_type": "markdown",
      "source": [
        "## Array : Lastnosti in metode\n"
      ]
    },
    {
      "metadata": {
        "trusted": true
      },
      "cell_type": "code",
      "source": [
        "arr = np.arange(25)\n",
        "ranarr = np.random.randint(0,50,10)"
      ],
      "execution_count": 18,
      "outputs": []
    },
    {
      "metadata": {
        "trusted": true
      },
      "cell_type": "code",
      "source": [
        "# Preglej, izpiši vrednosti v arr in randarr"
      ],
      "execution_count": 49,
      "outputs": []
    },
    {
      "metadata": {
        "trusted": true
      },
      "cell_type": "code",
      "source": [
        "# ranarr"
      ],
      "execution_count": 50,
      "outputs": []
    },
    {
      "metadata": {},
      "cell_type": "markdown",
      "source": [
        "## Reshape\n",
        "Podamo novo obliko matrike za podane podatke."
      ]
    },
    {
      "metadata": {
        "trusted": true
      },
      "cell_type": "code",
      "source": [
        "arr.reshape(5,5)"
      ],
      "execution_count": 19,
      "outputs": [
        {
          "output_type": "execute_result",
          "execution_count": 19,
          "data": {
            "text/plain": "array([[ 0,  1,  2,  3,  4],\n       [ 5,  6,  7,  8,  9],\n       [10, 11, 12, 13, 14],\n       [15, 16, 17, 18, 19],\n       [20, 21, 22, 23, 24]])"
          },
          "metadata": {}
        }
      ]
    },
    {
      "metadata": {},
      "cell_type": "markdown",
      "source": [
        "### max,min,argmax,argmin\n",
        "Preizkusite, kaj vračajo metode"
      ]
    },
    {
      "metadata": {
        "trusted": true
      },
      "cell_type": "code",
      "source": [
        "ranarr.mean()"
      ],
      "execution_count": 21,
      "outputs": [
        {
          "output_type": "execute_result",
          "execution_count": 21,
          "data": {
            "text/plain": "28.0"
          },
          "metadata": {}
        }
      ]
    },
    {
      "metadata": {
        "trusted": true
      },
      "cell_type": "code",
      "source": [
        "# ranarr.argmax()"
      ],
      "execution_count": 2,
      "outputs": []
    },
    {
      "metadata": {
        "trusted": true
      },
      "cell_type": "code",
      "source": [
        "# ranarr.min()"
      ],
      "execution_count": 3,
      "outputs": []
    },
    {
      "metadata": {
        "trusted": true
      },
      "cell_type": "code",
      "source": [
        "# ranarr.argmin()"
      ],
      "execution_count": 4,
      "outputs": []
    },
    {
      "metadata": {},
      "cell_type": "markdown",
      "source": [
        "## Shape\n",
        "\n",
        "Shape pove obliko matrike podatkov."
      ]
    },
    {
      "metadata": {
        "trusted": true
      },
      "cell_type": "code",
      "source": [
        "# Vector\n",
        "arr.shape"
      ],
      "execution_count": 22,
      "outputs": [
        {
          "output_type": "execute_result",
          "execution_count": 22,
          "data": {
            "text/plain": "(25,)"
          },
          "metadata": {}
        }
      ]
    },
    {
      "metadata": {
        "trusted": true
      },
      "cell_type": "code",
      "source": [
        "# Notice the two sets of brackets\n",
        "arr.reshape(1,25)"
      ],
      "execution_count": 23,
      "outputs": [
        {
          "output_type": "execute_result",
          "execution_count": 23,
          "data": {
            "text/plain": "array([[ 0,  1,  2,  3,  4,  5,  6,  7,  8,  9, 10, 11, 12, 13, 14, 15,\n        16, 17, 18, 19, 20, 21, 22, 23, 24]])"
          },
          "metadata": {}
        }
      ]
    },
    {
      "metadata": {
        "trusted": true
      },
      "cell_type": "code",
      "source": [
        "arr.reshape(1,25).shape"
      ],
      "execution_count": 24,
      "outputs": [
        {
          "output_type": "execute_result",
          "execution_count": 24,
          "data": {
            "text/plain": "(1, 25)"
          },
          "metadata": {}
        }
      ]
    },
    {
      "metadata": {
        "trusted": true
      },
      "cell_type": "code",
      "source": [
        "# Kaj dobimo ?\n",
        "# arr.reshape(25,1)"
      ],
      "execution_count": 54,
      "outputs": []
    },
    {
      "metadata": {
        "trusted": true
      },
      "cell_type": "code",
      "source": [
        "# arr.reshape(25,1).shape"
      ],
      "execution_count": 56,
      "outputs": []
    },
    {
      "metadata": {},
      "cell_type": "markdown",
      "source": [
        "### dtype\n",
        "\n",
        "podatkovni tip matrike."
      ]
    },
    {
      "metadata": {
        "trusted": false
      },
      "cell_type": "code",
      "source": [
        "arr.dtype"
      ],
      "execution_count": 75,
      "outputs": [
        {
          "data": {
            "text/plain": "dtype('int64')"
          },
          "execution_count": 75,
          "metadata": {},
          "output_type": "execute_result"
        }
      ]
    },
    {
      "metadata": {},
      "cell_type": "markdown",
      "source": [
        "# Izbira in indeksiranje elementov v matrikah\n"
      ]
    },
    {
      "metadata": {},
      "cell_type": "markdown",
      "source": [
        "## Indeksi v oglatih oklepajih"
      ]
    },
    {
      "metadata": {
        "trusted": true
      },
      "cell_type": "code",
      "source": [
        "#Creating sample array\n",
        "arr = np.arange(0,11)\n",
        "arr"
      ],
      "execution_count": 25,
      "outputs": [
        {
          "output_type": "execute_result",
          "execution_count": 25,
          "data": {
            "text/plain": "array([ 0,  1,  2,  3,  4,  5,  6,  7,  8,  9, 10])"
          },
          "metadata": {}
        }
      ]
    },
    {
      "metadata": {
        "trusted": true
      },
      "cell_type": "code",
      "source": [
        "#Get a value at an index\n",
        "arr[8]"
      ],
      "execution_count": 26,
      "outputs": [
        {
          "output_type": "execute_result",
          "execution_count": 26,
          "data": {
            "text/plain": "8"
          },
          "metadata": {}
        }
      ]
    },
    {
      "metadata": {
        "trusted": true
      },
      "cell_type": "code",
      "source": [
        "#Get values in a range\n",
        "arr[1:5]"
      ],
      "execution_count": 27,
      "outputs": [
        {
          "output_type": "execute_result",
          "execution_count": 27,
          "data": {
            "text/plain": "array([1, 2, 3, 4])"
          },
          "metadata": {}
        }
      ]
    },
    {
      "metadata": {
        "trusted": true
      },
      "cell_type": "code",
      "source": [
        "#Get values in a range\n",
        "# arr[0:5]\n",
        "# arr[:3]\n",
        "# arr[3:]"
      ],
      "execution_count": 28,
      "outputs": []
    },
    {
      "metadata": {},
      "cell_type": "markdown",
      "source": [
        "## Prirejanje vrednosti elementom"
      ]
    },
    {
      "metadata": {
        "trusted": true
      },
      "cell_type": "code",
      "source": [
        "#Setting a value with index range (Broadcasting)\n",
        "arr[0:5]=100\n",
        "\n",
        "#Show\n",
        "arr"
      ],
      "execution_count": 29,
      "outputs": [
        {
          "output_type": "execute_result",
          "execution_count": 29,
          "data": {
            "text/plain": "array([100, 100, 100, 100, 100,   5,   6,   7,   8,   9,  10])"
          },
          "metadata": {}
        }
      ]
    },
    {
      "metadata": {},
      "cell_type": "markdown",
      "source": [
        "## Matrike \n",
        "\n",
        "Format je **arr_2d[row][col]** ali **arr_2d[row,col]**. "
      ]
    },
    {
      "metadata": {
        "trusted": true
      },
      "cell_type": "code",
      "source": [
        "arr_2d = np.array(([5,10,15],[20,25,30],[35,40,45]))\n",
        "\n",
        "arr_2d"
      ],
      "execution_count": 30,
      "outputs": [
        {
          "output_type": "execute_result",
          "execution_count": 30,
          "data": {
            "text/plain": "array([[ 5, 10, 15],\n       [20, 25, 30],\n       [35, 40, 45]])"
          },
          "metadata": {}
        }
      ]
    },
    {
      "metadata": {
        "trusted": true
      },
      "cell_type": "code",
      "source": [
        "# Vrstica 1\n",
        "arr_2d[1]\n"
      ],
      "execution_count": 31,
      "outputs": [
        {
          "output_type": "execute_result",
          "execution_count": 31,
          "data": {
            "text/plain": "array([20, 25, 30])"
          },
          "metadata": {}
        }
      ]
    },
    {
      "metadata": {
        "trusted": true
      },
      "cell_type": "code",
      "source": [
        "# Format is arr_2d[row][col] or arr_2d[row,col]\n",
        "\n",
        "# Getting individual element value\n",
        "# arr_2d[1][0]"
      ],
      "execution_count": 32,
      "outputs": []
    },
    {
      "metadata": {
        "trusted": true
      },
      "cell_type": "code",
      "source": [
        "# Getting individual element value\n",
        "# arr_2d[1,0]"
      ],
      "execution_count": 33,
      "outputs": []
    },
    {
      "metadata": {
        "trusted": true
      },
      "cell_type": "code",
      "source": [
        "# 2D array slicing\n",
        "\n",
        "#Shape (2,2) from top right corner\n",
        "# arr_2d[:2,1:]"
      ],
      "execution_count": 34,
      "outputs": []
    },
    {
      "metadata": {
        "trusted": true
      },
      "cell_type": "code",
      "source": [
        "#Shape bottom row\n",
        "arr_2d[2]"
      ],
      "execution_count": 35,
      "outputs": [
        {
          "output_type": "execute_result",
          "execution_count": 35,
          "data": {
            "text/plain": "array([35, 40, 45])"
          },
          "metadata": {}
        }
      ]
    },
    {
      "metadata": {
        "trusted": true
      },
      "cell_type": "code",
      "source": [
        "#Shape bottom row\n",
        "arr_2d[2,:]"
      ],
      "execution_count": 36,
      "outputs": [
        {
          "output_type": "execute_result",
          "execution_count": 36,
          "data": {
            "text/plain": "array([35, 40, 45])"
          },
          "metadata": {}
        }
      ]
    },
    {
      "metadata": {},
      "cell_type": "markdown",
      "source": [
        "## Izbira elementov s primerjanjem\n",
        "\n"
      ]
    },
    {
      "metadata": {
        "trusted": false
      },
      "cell_type": "code",
      "source": [
        "arr = np.arange(1,11)\n",
        "arr"
      ],
      "execution_count": 11,
      "outputs": [
        {
          "data": {
            "text/plain": "array([ 1,  2,  3,  4,  5,  6,  7,  8,  9, 10])"
          },
          "execution_count": 11,
          "metadata": {},
          "output_type": "execute_result"
        }
      ]
    },
    {
      "metadata": {
        "trusted": true
      },
      "cell_type": "code",
      "source": [
        "arr > 4"
      ],
      "execution_count": 37,
      "outputs": [
        {
          "output_type": "execute_result",
          "execution_count": 37,
          "data": {
            "text/plain": "array([ True,  True,  True,  True,  True,  True,  True,  True,  True,\n        True,  True])"
          },
          "metadata": {}
        }
      ]
    },
    {
      "metadata": {
        "trusted": true
      },
      "cell_type": "code",
      "source": [
        "bool_arr = arr>10"
      ],
      "execution_count": 41,
      "outputs": []
    },
    {
      "metadata": {
        "trusted": true
      },
      "cell_type": "code",
      "source": [
        "bool_arr"
      ],
      "execution_count": 42,
      "outputs": [
        {
          "output_type": "execute_result",
          "execution_count": 42,
          "data": {
            "text/plain": "array([ True,  True,  True,  True,  True, False, False, False, False,\n       False, False])"
          },
          "metadata": {}
        }
      ]
    },
    {
      "metadata": {
        "trusted": true
      },
      "cell_type": "code",
      "source": [
        "arr[bool_arr]"
      ],
      "execution_count": 43,
      "outputs": [
        {
          "output_type": "execute_result",
          "execution_count": 43,
          "data": {
            "text/plain": "array([100, 100, 100, 100, 100])"
          },
          "metadata": {}
        }
      ]
    },
    {
      "metadata": {
        "trusted": true
      },
      "cell_type": "code",
      "source": [
        "arr[arr>2]"
      ],
      "execution_count": 44,
      "outputs": [
        {
          "output_type": "execute_result",
          "execution_count": 44,
          "data": {
            "text/plain": "array([100, 100, 100, 100, 100,   5,   6,   7,   8,   9,  10])"
          },
          "metadata": {}
        }
      ]
    },
    {
      "metadata": {
        "scrolled": true,
        "trusted": true
      },
      "cell_type": "code",
      "source": [
        "x = 2\n",
        "arr[arr>x]"
      ],
      "execution_count": 45,
      "outputs": [
        {
          "output_type": "execute_result",
          "execution_count": 45,
          "data": {
            "text/plain": "array([100, 100, 100, 100, 100,   5,   6,   7,   8,   9,  10])"
          },
          "metadata": {}
        }
      ]
    },
    {
      "metadata": {},
      "cell_type": "markdown",
      "source": [
        "## Naloge\n",
        "\n",
        "### Matematične operacije z matrikami in vektorji\n",
        "\n",
        "Preizkusi računske operacije nad arrayem (vektorjem): seštevanje, množenje, deljenje, potenca na 2"
      ]
    },
    {
      "metadata": {
        "trusted": false
      },
      "cell_type": "code",
      "source": [
        "# Kreiraj vektor s stevili od 1 .. 9\n"
      ],
      "execution_count": 18,
      "outputs": []
    },
    {
      "metadata": {
        "trusted": true
      },
      "cell_type": "code",
      "source": [
        "# Preizkusi računske operacije z vektorjem\n",
        "arr\n",
        "1/arr"
      ],
      "execution_count": 50,
      "outputs": [
        {
          "output_type": "stream",
          "text": "/home/nbuser/anaconda3_420/lib/python3.5/site-packages/ipykernel/__main__.py:3: RuntimeWarning: divide by zero encountered in true_divide\n  app.launch_new_instance()\n",
          "name": "stderr"
        },
        {
          "output_type": "execute_result",
          "execution_count": 50,
          "data": {
            "text/plain": "array([       inf, 0.01      , 0.01      , 0.01      , 0.01      ,\n       0.2       , 0.16666667, 0.14285714, 0.125     , 0.11111111,\n       0.1       ])"
          },
          "metadata": {}
        }
      ]
    },
    {
      "metadata": {
        "trusted": false
      },
      "cell_type": "code",
      "source": [],
      "execution_count": null,
      "outputs": []
    },
    {
      "metadata": {},
      "cell_type": "markdown",
      "source": [
        "### Matematične funkcije z matrikami in vektorji\n",
        "sin, cos, sqrt, log \n",
        "Kličemo jih: np.sin(array)"
      ]
    },
    {
      "metadata": {
        "trusted": false
      },
      "cell_type": "code",
      "source": [
        "np.exp(arr)"
      ],
      "execution_count": 20,
      "outputs": [
        {
          "data": {
            "text/plain": "array([2.71828183e+00, 7.38905610e+00, 2.00855369e+01, 5.45981500e+01,\n       1.48413159e+02, 4.03428793e+02, 1.09663316e+03, 2.98095799e+03,\n       8.10308393e+03, 2.20264658e+04])"
          },
          "execution_count": 20,
          "metadata": {},
          "output_type": "execute_result"
        }
      ]
    },
    {
      "metadata": {
        "trusted": false
      },
      "cell_type": "code",
      "source": [],
      "execution_count": null,
      "outputs": []
    },
    {
      "metadata": {
        "trusted": false
      },
      "cell_type": "code",
      "source": [
        "# Preizkusi druge matematične funkcije Numpy nad vektorjem ali matrikami\n",
        "# skalarni produkt, vekt.produkt, sin, cos ...\n",
        "\n"
      ],
      "execution_count": null,
      "outputs": []
    },
    {
      "metadata": {
        "trusted": false
      },
      "cell_type": "code",
      "source": [],
      "execution_count": null,
      "outputs": []
    },
    {
      "metadata": {
        "trusted": false
      },
      "cell_type": "code",
      "source": [],
      "execution_count": null,
      "outputs": []
    }
  ],
  "metadata": {
    "kernelspec": {
      "name": "python_defaultSpec_1601639502134",
      "display_name": "Python 3.6.9 64-bit ('base': conda)",
      "metadata": {
        "interpreter": {
          "hash": "26d98e946f67d0893637cd406b2e5cd935116e64d7daa69f51676d5acc535259"
        }
      }
    },
    "language_info": {
      "mimetype": "text/x-python",
      "nbconvert_exporter": "python",
      "name": "python",
      "file_extension": ".py",
      "version": "3.6.9-final",
      "pygments_lexer": "ipython3",
      "codemirror_mode": {
        "version": 3,
        "name": "ipython"
      }
    }
  },
  "nbformat": 4,
  "nbformat_minor": 1
}