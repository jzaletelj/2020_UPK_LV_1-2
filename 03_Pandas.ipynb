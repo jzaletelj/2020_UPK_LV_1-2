{
  "cells": [
    {
      "metadata": {},
      "cell_type": "markdown",
      "source": "# Pandas knjižnjica\n\nPandas je open-source knjižnjica zgrajena na NumPy, in namenjena hitri analizi podatkov, pa tudi vizualizaciji. Delamo lahko s podatkih iz različnih virov.\n"
    },
    {
      "metadata": {},
      "cell_type": "markdown",
      "source": "# DataFrames\n\nDataFrames je temeljni objekt za zapis podatkov. Lahko si ga predstavljamo kot tabelo v excelu. "
    },
    {
      "metadata": {
        "trusted": true
      },
      "cell_type": "code",
      "source": "import pandas as pd\nimport numpy as np",
      "execution_count": 1,
      "outputs": []
    },
    {
      "metadata": {
        "trusted": true
      },
      "cell_type": "code",
      "source": "# Uporabili bomo naklj.stevila za generiranje tabele.\nfrom numpy.random import randn\nnp.random.seed(101)",
      "execution_count": 2,
      "outputs": []
    },
    {
      "metadata": {
        "trusted": true
      },
      "cell_type": "code",
      "source": "# Kreiraj data frame: podatki, indeksi vrstic, indeksi stolpcev\ndf = pd.DataFrame(randn(5,4),index='A B C D E'.split(),columns='W X Y Z'.split())",
      "execution_count": 3,
      "outputs": []
    },
    {
      "metadata": {
        "scrolled": true,
        "trusted": true
      },
      "cell_type": "code",
      "source": "df",
      "execution_count": 4,
      "outputs": [
        {
          "output_type": "execute_result",
          "execution_count": 4,
          "data": {
            "text/plain": "          W         X         Y         Z\nA  2.706850  0.628133  0.907969  0.503826\nB  0.651118 -0.319318 -0.848077  0.605965\nC -2.018168  0.740122  0.528813 -0.589001\nD  0.188695 -0.758872 -0.933237  0.955057\nE  0.190794  1.978757  2.605967  0.683509",
            "text/html": "<div>\n<table border=\"1\" class=\"dataframe\">\n  <thead>\n    <tr style=\"text-align: right;\">\n      <th></th>\n      <th>W</th>\n      <th>X</th>\n      <th>Y</th>\n      <th>Z</th>\n    </tr>\n  </thead>\n  <tbody>\n    <tr>\n      <th>A</th>\n      <td>2.706850</td>\n      <td>0.628133</td>\n      <td>0.907969</td>\n      <td>0.503826</td>\n    </tr>\n    <tr>\n      <th>B</th>\n      <td>0.651118</td>\n      <td>-0.319318</td>\n      <td>-0.848077</td>\n      <td>0.605965</td>\n    </tr>\n    <tr>\n      <th>C</th>\n      <td>-2.018168</td>\n      <td>0.740122</td>\n      <td>0.528813</td>\n      <td>-0.589001</td>\n    </tr>\n    <tr>\n      <th>D</th>\n      <td>0.188695</td>\n      <td>-0.758872</td>\n      <td>-0.933237</td>\n      <td>0.955057</td>\n    </tr>\n    <tr>\n      <th>E</th>\n      <td>0.190794</td>\n      <td>1.978757</td>\n      <td>2.605967</td>\n      <td>0.683509</td>\n    </tr>\n  </tbody>\n</table>\n</div>"
          },
          "metadata": {}
        }
      ]
    },
    {
      "metadata": {},
      "cell_type": "markdown",
      "source": "## Izbira podatkov\n"
    },
    {
      "metadata": {
        "trusted": true
      },
      "cell_type": "code",
      "source": "df['W']",
      "execution_count": 5,
      "outputs": [
        {
          "output_type": "execute_result",
          "execution_count": 5,
          "data": {
            "text/plain": "A    2.706850\nB    0.651118\nC   -2.018168\nD    0.188695\nE    0.190794\nName: W, dtype: float64"
          },
          "metadata": {}
        }
      ]
    },
    {
      "metadata": {
        "trusted": true
      },
      "cell_type": "code",
      "source": "# izbira več stopcev\n# df[['W','Z']]",
      "execution_count": 6,
      "outputs": []
    },
    {
      "metadata": {},
      "cell_type": "markdown",
      "source": "**Nov stolpec v tabeli:**"
    },
    {
      "metadata": {
        "trusted": true
      },
      "cell_type": "code",
      "source": "# df['new'] = df['W'] + df['Y']",
      "execution_count": 7,
      "outputs": []
    },
    {
      "metadata": {
        "trusted": true
      },
      "cell_type": "code",
      "source": "df",
      "execution_count": 8,
      "outputs": [
        {
          "output_type": "execute_result",
          "execution_count": 8,
          "data": {
            "text/plain": "          W         X         Y         Z\nA  2.706850  0.628133  0.907969  0.503826\nB  0.651118 -0.319318 -0.848077  0.605965\nC -2.018168  0.740122  0.528813 -0.589001\nD  0.188695 -0.758872 -0.933237  0.955057\nE  0.190794  1.978757  2.605967  0.683509",
            "text/html": "<div>\n<table border=\"1\" class=\"dataframe\">\n  <thead>\n    <tr style=\"text-align: right;\">\n      <th></th>\n      <th>W</th>\n      <th>X</th>\n      <th>Y</th>\n      <th>Z</th>\n    </tr>\n  </thead>\n  <tbody>\n    <tr>\n      <th>A</th>\n      <td>2.706850</td>\n      <td>0.628133</td>\n      <td>0.907969</td>\n      <td>0.503826</td>\n    </tr>\n    <tr>\n      <th>B</th>\n      <td>0.651118</td>\n      <td>-0.319318</td>\n      <td>-0.848077</td>\n      <td>0.605965</td>\n    </tr>\n    <tr>\n      <th>C</th>\n      <td>-2.018168</td>\n      <td>0.740122</td>\n      <td>0.528813</td>\n      <td>-0.589001</td>\n    </tr>\n    <tr>\n      <th>D</th>\n      <td>0.188695</td>\n      <td>-0.758872</td>\n      <td>-0.933237</td>\n      <td>0.955057</td>\n    </tr>\n    <tr>\n      <th>E</th>\n      <td>0.190794</td>\n      <td>1.978757</td>\n      <td>2.605967</td>\n      <td>0.683509</td>\n    </tr>\n  </tbody>\n</table>\n</div>"
          },
          "metadata": {}
        }
      ]
    },
    {
      "metadata": {},
      "cell_type": "markdown",
      "source": "** Odstranjevanje **"
    },
    {
      "metadata": {
        "trusted": true
      },
      "cell_type": "code",
      "source": "# vrne novo tabelo brez tega stolpca\n# df.drop('new',axis=1)",
      "execution_count": 10,
      "outputs": []
    },
    {
      "metadata": {
        "trusted": true
      },
      "cell_type": "code",
      "source": "# inplace dejansko odstrani stolpec iz tabele df : inplace !!\n# df.drop('new',axis=1,inplace=True)",
      "execution_count": 11,
      "outputs": []
    },
    {
      "metadata": {
        "trusted": true
      },
      "cell_type": "code",
      "source": "df",
      "execution_count": 12,
      "outputs": [
        {
          "output_type": "execute_result",
          "execution_count": 12,
          "data": {
            "text/plain": "          W         X         Y         Z\nA  2.706850  0.628133  0.907969  0.503826\nB  0.651118 -0.319318 -0.848077  0.605965\nC -2.018168  0.740122  0.528813 -0.589001\nD  0.188695 -0.758872 -0.933237  0.955057\nE  0.190794  1.978757  2.605967  0.683509",
            "text/html": "<div>\n<table border=\"1\" class=\"dataframe\">\n  <thead>\n    <tr style=\"text-align: right;\">\n      <th></th>\n      <th>W</th>\n      <th>X</th>\n      <th>Y</th>\n      <th>Z</th>\n    </tr>\n  </thead>\n  <tbody>\n    <tr>\n      <th>A</th>\n      <td>2.706850</td>\n      <td>0.628133</td>\n      <td>0.907969</td>\n      <td>0.503826</td>\n    </tr>\n    <tr>\n      <th>B</th>\n      <td>0.651118</td>\n      <td>-0.319318</td>\n      <td>-0.848077</td>\n      <td>0.605965</td>\n    </tr>\n    <tr>\n      <th>C</th>\n      <td>-2.018168</td>\n      <td>0.740122</td>\n      <td>0.528813</td>\n      <td>-0.589001</td>\n    </tr>\n    <tr>\n      <th>D</th>\n      <td>0.188695</td>\n      <td>-0.758872</td>\n      <td>-0.933237</td>\n      <td>0.955057</td>\n    </tr>\n    <tr>\n      <th>E</th>\n      <td>0.190794</td>\n      <td>1.978757</td>\n      <td>2.605967</td>\n      <td>0.683509</td>\n    </tr>\n  </tbody>\n</table>\n</div>"
          },
          "metadata": {}
        }
      ]
    },
    {
      "metadata": {},
      "cell_type": "markdown",
      "source": "Odstranitev vrstice:"
    },
    {
      "metadata": {
        "trusted": false
      },
      "cell_type": "code",
      "source": "# axis 0 pomeni indekse vrstic.\ndf.drop('E',axis=0)",
      "execution_count": 21,
      "outputs": [
        {
          "data": {
            "text/html": "<div>\n<style scoped>\n    .dataframe tbody tr th:only-of-type {\n        vertical-align: middle;\n    }\n\n    .dataframe tbody tr th {\n        vertical-align: top;\n    }\n\n    .dataframe thead th {\n        text-align: right;\n    }\n</style>\n<table border=\"1\" class=\"dataframe\">\n  <thead>\n    <tr style=\"text-align: right;\">\n      <th></th>\n      <th>W</th>\n      <th>X</th>\n      <th>Y</th>\n      <th>Z</th>\n    </tr>\n  </thead>\n  <tbody>\n    <tr>\n      <th>A</th>\n      <td>2.706850</td>\n      <td>0.628133</td>\n      <td>0.907969</td>\n      <td>0.503826</td>\n    </tr>\n    <tr>\n      <th>B</th>\n      <td>0.651118</td>\n      <td>-0.319318</td>\n      <td>-0.848077</td>\n      <td>0.605965</td>\n    </tr>\n    <tr>\n      <th>C</th>\n      <td>-2.018168</td>\n      <td>0.740122</td>\n      <td>0.528813</td>\n      <td>-0.589001</td>\n    </tr>\n    <tr>\n      <th>D</th>\n      <td>0.188695</td>\n      <td>-0.758872</td>\n      <td>-0.933237</td>\n      <td>0.955057</td>\n    </tr>\n  </tbody>\n</table>\n</div>",
            "text/plain": "          W         X         Y         Z\nA  2.706850  0.628133  0.907969  0.503826\nB  0.651118 -0.319318 -0.848077  0.605965\nC -2.018168  0.740122  0.528813 -0.589001\nD  0.188695 -0.758872 -0.933237  0.955057"
          },
          "execution_count": 21,
          "metadata": {},
          "output_type": "execute_result"
        }
      ]
    },
    {
      "metadata": {},
      "cell_type": "markdown",
      "source": "**Izbira vrstic** : loc (location) je lastnost ki vrne stolpec kot serijo"
    },
    {
      "metadata": {
        "trusted": false
      },
      "cell_type": "code",
      "source": "df.loc['A']",
      "execution_count": 22,
      "outputs": [
        {
          "data": {
            "text/plain": "W    2.706850\nX    0.628133\nY    0.907969\nZ    0.503826\nName: A, dtype: float64"
          },
          "execution_count": 22,
          "metadata": {},
          "output_type": "execute_result"
        }
      ]
    },
    {
      "metadata": {
        "trusted": false
      },
      "cell_type": "code",
      "source": "df.iloc[2]",
      "execution_count": 23,
      "outputs": [
        {
          "data": {
            "text/plain": "W   -2.018168\nX    0.740122\nY    0.528813\nZ   -0.589001\nName: C, dtype: float64"
          },
          "execution_count": 23,
          "metadata": {},
          "output_type": "execute_result"
        }
      ]
    },
    {
      "metadata": {
        "trusted": false
      },
      "cell_type": "code",
      "source": "df.loc['B','Y']",
      "execution_count": 24,
      "outputs": [
        {
          "data": {
            "text/plain": "-0.8480769834036315"
          },
          "execution_count": 24,
          "metadata": {},
          "output_type": "execute_result"
        }
      ]
    },
    {
      "metadata": {
        "scrolled": true,
        "trusted": false
      },
      "cell_type": "code",
      "source": "df.loc[['A','B'],['W','Y']]",
      "execution_count": 25,
      "outputs": [
        {
          "data": {
            "text/html": "<div>\n<style scoped>\n    .dataframe tbody tr th:only-of-type {\n        vertical-align: middle;\n    }\n\n    .dataframe tbody tr th {\n        vertical-align: top;\n    }\n\n    .dataframe thead th {\n        text-align: right;\n    }\n</style>\n<table border=\"1\" class=\"dataframe\">\n  <thead>\n    <tr style=\"text-align: right;\">\n      <th></th>\n      <th>W</th>\n      <th>Y</th>\n    </tr>\n  </thead>\n  <tbody>\n    <tr>\n      <th>A</th>\n      <td>2.706850</td>\n      <td>0.907969</td>\n    </tr>\n    <tr>\n      <th>B</th>\n      <td>0.651118</td>\n      <td>-0.848077</td>\n    </tr>\n  </tbody>\n</table>\n</div>",
            "text/plain": "          W         Y\nA  2.706850  0.907969\nB  0.651118 -0.848077"
          },
          "execution_count": 25,
          "metadata": {},
          "output_type": "execute_result"
        }
      ]
    },
    {
      "metadata": {},
      "cell_type": "markdown",
      "source": "### Izbira s pogojem\n\n"
    },
    {
      "metadata": {
        "trusted": false
      },
      "cell_type": "code",
      "source": "df",
      "execution_count": 26,
      "outputs": [
        {
          "data": {
            "text/html": "<div>\n<style scoped>\n    .dataframe tbody tr th:only-of-type {\n        vertical-align: middle;\n    }\n\n    .dataframe tbody tr th {\n        vertical-align: top;\n    }\n\n    .dataframe thead th {\n        text-align: right;\n    }\n</style>\n<table border=\"1\" class=\"dataframe\">\n  <thead>\n    <tr style=\"text-align: right;\">\n      <th></th>\n      <th>W</th>\n      <th>X</th>\n      <th>Y</th>\n      <th>Z</th>\n    </tr>\n  </thead>\n  <tbody>\n    <tr>\n      <th>A</th>\n      <td>2.706850</td>\n      <td>0.628133</td>\n      <td>0.907969</td>\n      <td>0.503826</td>\n    </tr>\n    <tr>\n      <th>B</th>\n      <td>0.651118</td>\n      <td>-0.319318</td>\n      <td>-0.848077</td>\n      <td>0.605965</td>\n    </tr>\n    <tr>\n      <th>C</th>\n      <td>-2.018168</td>\n      <td>0.740122</td>\n      <td>0.528813</td>\n      <td>-0.589001</td>\n    </tr>\n    <tr>\n      <th>D</th>\n      <td>0.188695</td>\n      <td>-0.758872</td>\n      <td>-0.933237</td>\n      <td>0.955057</td>\n    </tr>\n    <tr>\n      <th>E</th>\n      <td>0.190794</td>\n      <td>1.978757</td>\n      <td>2.605967</td>\n      <td>0.683509</td>\n    </tr>\n  </tbody>\n</table>\n</div>",
            "text/plain": "          W         X         Y         Z\nA  2.706850  0.628133  0.907969  0.503826\nB  0.651118 -0.319318 -0.848077  0.605965\nC -2.018168  0.740122  0.528813 -0.589001\nD  0.188695 -0.758872 -0.933237  0.955057\nE  0.190794  1.978757  2.605967  0.683509"
          },
          "execution_count": 26,
          "metadata": {},
          "output_type": "execute_result"
        }
      ]
    },
    {
      "metadata": {
        "trusted": false
      },
      "cell_type": "code",
      "source": "df>0",
      "execution_count": 27,
      "outputs": [
        {
          "data": {
            "text/html": "<div>\n<style scoped>\n    .dataframe tbody tr th:only-of-type {\n        vertical-align: middle;\n    }\n\n    .dataframe tbody tr th {\n        vertical-align: top;\n    }\n\n    .dataframe thead th {\n        text-align: right;\n    }\n</style>\n<table border=\"1\" class=\"dataframe\">\n  <thead>\n    <tr style=\"text-align: right;\">\n      <th></th>\n      <th>W</th>\n      <th>X</th>\n      <th>Y</th>\n      <th>Z</th>\n    </tr>\n  </thead>\n  <tbody>\n    <tr>\n      <th>A</th>\n      <td>True</td>\n      <td>True</td>\n      <td>True</td>\n      <td>True</td>\n    </tr>\n    <tr>\n      <th>B</th>\n      <td>True</td>\n      <td>False</td>\n      <td>False</td>\n      <td>True</td>\n    </tr>\n    <tr>\n      <th>C</th>\n      <td>False</td>\n      <td>True</td>\n      <td>True</td>\n      <td>False</td>\n    </tr>\n    <tr>\n      <th>D</th>\n      <td>True</td>\n      <td>False</td>\n      <td>False</td>\n      <td>True</td>\n    </tr>\n    <tr>\n      <th>E</th>\n      <td>True</td>\n      <td>True</td>\n      <td>True</td>\n      <td>True</td>\n    </tr>\n  </tbody>\n</table>\n</div>",
            "text/plain": "       W      X      Y      Z\nA   True   True   True   True\nB   True  False  False   True\nC  False   True   True  False\nD   True  False  False   True\nE   True   True   True   True"
          },
          "execution_count": 27,
          "metadata": {},
          "output_type": "execute_result"
        }
      ]
    },
    {
      "metadata": {
        "trusted": true
      },
      "cell_type": "code",
      "source": "# Kaj vrne?\n# df[df>0]",
      "execution_count": 13,
      "outputs": []
    },
    {
      "metadata": {
        "trusted": true
      },
      "cell_type": "code",
      "source": "# df[df['W']>0]",
      "execution_count": 14,
      "outputs": []
    },
    {
      "metadata": {},
      "cell_type": "markdown",
      "source": "# Uvoz podatkov\nPodatke lahko beremo iz csv, Excela, SQL.."
    },
    {
      "metadata": {
        "trusted": true
      },
      "cell_type": "code",
      "source": "# Uvozimo podatke iz datoteke v data frame\ndf1 = pd.read_csv('df1',index_col=0)",
      "execution_count": 18,
      "outputs": []
    },
    {
      "metadata": {
        "trusted": true
      },
      "cell_type": "code",
      "source": "df1.head()",
      "execution_count": 19,
      "outputs": [
        {
          "output_type": "execute_result",
          "execution_count": 19,
          "data": {
            "text/plain": "                   A         B         C         D\n2000-01-01  1.339091 -0.163643 -0.646443  1.041233\n2000-01-02 -0.774984  0.137034 -0.882716 -2.253382\n2000-01-03 -0.921037 -0.482943 -0.417100  0.478638\n2000-01-04 -1.738808 -0.072973  0.056517  0.015085\n2000-01-05 -0.905980  1.778576  0.381918  0.291436",
            "text/html": "<div>\n<table border=\"1\" class=\"dataframe\">\n  <thead>\n    <tr style=\"text-align: right;\">\n      <th></th>\n      <th>A</th>\n      <th>B</th>\n      <th>C</th>\n      <th>D</th>\n    </tr>\n  </thead>\n  <tbody>\n    <tr>\n      <th>2000-01-01</th>\n      <td>1.339091</td>\n      <td>-0.163643</td>\n      <td>-0.646443</td>\n      <td>1.041233</td>\n    </tr>\n    <tr>\n      <th>2000-01-02</th>\n      <td>-0.774984</td>\n      <td>0.137034</td>\n      <td>-0.882716</td>\n      <td>-2.253382</td>\n    </tr>\n    <tr>\n      <th>2000-01-03</th>\n      <td>-0.921037</td>\n      <td>-0.482943</td>\n      <td>-0.417100</td>\n      <td>0.478638</td>\n    </tr>\n    <tr>\n      <th>2000-01-04</th>\n      <td>-1.738808</td>\n      <td>-0.072973</td>\n      <td>0.056517</td>\n      <td>0.015085</td>\n    </tr>\n    <tr>\n      <th>2000-01-05</th>\n      <td>-0.905980</td>\n      <td>1.778576</td>\n      <td>0.381918</td>\n      <td>0.291436</td>\n    </tr>\n  </tbody>\n</table>\n</div>"
          },
          "metadata": {}
        }
      ]
    },
    {
      "metadata": {
        "trusted": true
      },
      "cell_type": "code",
      "source": "#df2 = pd.read_csv('df2')\n#df2",
      "execution_count": 20,
      "outputs": []
    },
    {
      "metadata": {},
      "cell_type": "markdown",
      "source": "# Vizualizacija podatkov vgrajena v Pandas\n\nNajprej moramo uvoziti :\n"
    },
    {
      "metadata": {
        "trusted": true
      },
      "cell_type": "code",
      "source": "import numpy as np\nimport pandas as pd\n%matplotlib inline",
      "execution_count": 21,
      "outputs": []
    },
    {
      "metadata": {},
      "cell_type": "markdown",
      "source": "## Izris grafa\nNa izbranih podatkih iz data frame lahko narisemo graf, s klicem metode.\nNpr. histogram.\nKličemo metodo plot, in potem kind='hist'"
    },
    {
      "metadata": {
        "scrolled": true,
        "trusted": true
      },
      "cell_type": "code",
      "source": "df1['B'].plot()",
      "execution_count": 22,
      "outputs": [
        {
          "output_type": "execute_result",
          "execution_count": 22,
          "data": {
            "text/plain": "<matplotlib.axes._subplots.AxesSubplot at 0x7f8e7ba82048>"
          },
          "metadata": {}
        },
        {
          "output_type": "display_data",
          "data": {
            "image/png": "[encoded data removed]",
            "text/plain": "<matplotlib.figure.Figure at 0x7f8e7baea8d0>"
          },
          "metadata": {}
        }
      ]
    },
    {
      "metadata": {
        "trusted": true
      },
      "cell_type": "code",
      "source": "df1['B'].plot(kind='hist')",
      "execution_count": 23,
      "outputs": [
        {
          "output_type": "execute_result",
          "execution_count": 23,
          "data": {
            "text/plain": "<matplotlib.axes._subplots.AxesSubplot at 0x7f8e80cfde10>"
          },
          "metadata": {}
        },
        {
          "output_type": "display_data",
          "data": {
            "image/png": "[encoded data removed]",
            "text/plain": "<matplotlib.figure.Figure at 0x7f8e7ba99c88>"
          },
          "metadata": {}
        }
      ]
    },
    {
      "metadata": {
        "trusted": true
      },
      "cell_type": "code",
      "source": "# Direktno klicemo hist\n# df1['A'].hist()",
      "execution_count": 24,
      "outputs": []
    },
    {
      "metadata": {
        "trusted": false
      },
      "cell_type": "code",
      "source": "",
      "execution_count": null,
      "outputs": []
    },
    {
      "metadata": {
        "trusted": true
      },
      "cell_type": "code",
      "source": "# Testirajte izris z več bini histograma (opcije)\n# ",
      "execution_count": 25,
      "outputs": []
    },
    {
      "metadata": {},
      "cell_type": "markdown",
      "source": "## Lepši izris: style sheets\n\nMatplotlib knjižnjica (http://matplotlib.org/gallery.html#style_sheets) vsebuje stile za izris: \nplot_bmh, plot_fivethirtyeight, plot_ggplot.\nUporaba stilov:\n"
    },
    {
      "metadata": {
        "trusted": true
      },
      "cell_type": "code",
      "source": "import matplotlib.pyplot as plt\nplt.style.use('ggplot')",
      "execution_count": 26,
      "outputs": []
    },
    {
      "metadata": {
        "trusted": true
      },
      "cell_type": "code",
      "source": "df1['B'].hist(bins = 30)",
      "execution_count": 27,
      "outputs": [
        {
          "output_type": "execute_result",
          "execution_count": 27,
          "data": {
            "text/plain": "<matplotlib.axes._subplots.AxesSubplot at 0x7f8e7b7daa90>"
          },
          "metadata": {}
        },
        {
          "output_type": "display_data",
          "data": {
            "image/png": "[encoded data removed]",
            "text/plain": "<matplotlib.figure.Figure at 0x7f8e7b79f160>"
          },
          "metadata": {}
        }
      ]
    },
    {
      "metadata": {},
      "cell_type": "markdown",
      "source": "# Tipi grafov\n\n* df.plot.area     \n* df.plot.barh     \n* df.plot.density  \n* df.plot.hist     \n* df.plot.line     \n* df.plot.scatter\n* df.plot.bar      \n* df.plot.box      \n* df.plot.hexbin   \n* df.plot.kde      \n* df.plot.pie\n"
    },
    {
      "metadata": {
        "trusted": true
      },
      "cell_type": "code",
      "source": "# df2.plot.area(alpha=0.4)",
      "execution_count": 28,
      "outputs": []
    },
    {
      "metadata": {
        "trusted": true
      },
      "cell_type": "code",
      "source": "# df2.plot.bar()",
      "execution_count": 29,
      "outputs": []
    },
    {
      "metadata": {},
      "cell_type": "markdown",
      "source": "## Scatter plot\npovemo x in y podatke"
    },
    {
      "metadata": {
        "trusted": true
      },
      "cell_type": "code",
      "source": "# df1.plot.scatter(x='A',y='B')",
      "execution_count": 30,
      "outputs": []
    },
    {
      "metadata": {
        "trusted": true
      },
      "cell_type": "code",
      "source": "# Preglej in komentiraj opcije\n# df1.plot.scatter(x='A',y='B',c='C',cmap='coolwarm')",
      "execution_count": 31,
      "outputs": []
    },
    {
      "metadata": {},
      "cell_type": "markdown",
      "source": "## Box plot: \nstatistika vrednosti "
    },
    {
      "metadata": {
        "trusted": false
      },
      "cell_type": "code",
      "source": "df2.plot.box()",
      "execution_count": 45,
      "outputs": [
        {
          "data": {
            "text/plain": "<matplotlib.axes._subplots.AxesSubplot at 0x1f9520c0438>"
          },
          "execution_count": 45,
          "metadata": {},
          "output_type": "execute_result"
        },
        {
          "data": {
            "image/png": "[encoded data removed]",
            "text/plain": "<Figure size 432x288 with 1 Axes>"
          },
          "metadata": {},
          "output_type": "display_data"
        }
      ]
    },
    {
      "metadata": {},
      "cell_type": "markdown",
      "source": "## Kernel density estimation: KDE\nPorazdelitev vrednosti v tabeli"
    },
    {
      "metadata": {
        "trusted": true
      },
      "cell_type": "code",
      "source": "# df2['a'].plot.kde()",
      "execution_count": 32,
      "outputs": []
    },
    {
      "metadata": {
        "trusted": true
      },
      "cell_type": "code",
      "source": "# df2.plot.density()",
      "execution_count": 33,
      "outputs": []
    },
    {
      "metadata": {},
      "cell_type": "markdown",
      "source": "# Naloge\nDodaj vrstice in preizkusi Pandas funkcije: uvoz podatkov, delo z Data Frame, vizualizacija podatkov\n\n### Uvoz podatkov"
    },
    {
      "metadata": {
        "trusted": false
      },
      "cell_type": "code",
      "source": "# Definiraj spremeljivko df3 in vanjo uvozi podatke iz datoteke df3\n# Izpiši prvih nekaj vrstic podatkov\ndf3 = pd.read_csv('df3')\ndf3.head()",
      "execution_count": 56,
      "outputs": [
        {
          "data": {
            "text/html": "<div>\n<style scoped>\n    .dataframe tbody tr th:only-of-type {\n        vertical-align: middle;\n    }\n\n    .dataframe tbody tr th {\n        vertical-align: top;\n    }\n\n    .dataframe thead th {\n        text-align: right;\n    }\n</style>\n<table border=\"1\" class=\"dataframe\">\n  <thead>\n    <tr style=\"text-align: right;\">\n      <th></th>\n      <th>a</th>\n      <th>b</th>\n      <th>c</th>\n      <th>d</th>\n    </tr>\n  </thead>\n  <tbody>\n    <tr>\n      <th>0</th>\n      <td>0.336272</td>\n      <td>0.325011</td>\n      <td>0.001020</td>\n      <td>0.401402</td>\n    </tr>\n    <tr>\n      <th>1</th>\n      <td>0.980265</td>\n      <td>0.831835</td>\n      <td>0.772288</td>\n      <td>0.076485</td>\n    </tr>\n    <tr>\n      <th>2</th>\n      <td>0.480387</td>\n      <td>0.686839</td>\n      <td>0.000575</td>\n      <td>0.746758</td>\n    </tr>\n    <tr>\n      <th>3</th>\n      <td>0.502106</td>\n      <td>0.305142</td>\n      <td>0.768608</td>\n      <td>0.654685</td>\n    </tr>\n    <tr>\n      <th>4</th>\n      <td>0.856602</td>\n      <td>0.171448</td>\n      <td>0.157971</td>\n      <td>0.321231</td>\n    </tr>\n  </tbody>\n</table>\n</div>",
            "text/plain": "          a         b         c         d\n0  0.336272  0.325011  0.001020  0.401402\n1  0.980265  0.831835  0.772288  0.076485\n2  0.480387  0.686839  0.000575  0.746758\n3  0.502106  0.305142  0.768608  0.654685\n4  0.856602  0.171448  0.157971  0.321231"
          },
          "execution_count": 56,
          "metadata": {},
          "output_type": "execute_result"
        }
      ]
    },
    {
      "metadata": {},
      "cell_type": "markdown",
      "source": "### Izris grafov\nPreizkusi risanje različnih grafov z pridobljenimi podatki. S pomočjo izbire podatkov izberi iz tabele del podatkov (posamezne stolpce, izbrane vrstice, več ali vse stolpce - serije) in jih izriši.\n\nPreizkusi različne tipe grafov in njihove opcije (nastavitve, parametre). Preglej pomoč glede nastavitev (opcij).\n\nV poročilu podaj slike grafov, kodo, in komentar (nastavitve, namen)."
    },
    {
      "metadata": {
        "trusted": false
      },
      "cell_type": "code",
      "source": "",
      "execution_count": null,
      "outputs": []
    },
    {
      "metadata": {
        "trusted": false
      },
      "cell_type": "code",
      "source": "",
      "execution_count": null,
      "outputs": []
    },
    {
      "metadata": {
        "trusted": false
      },
      "cell_type": "code",
      "source": "",
      "execution_count": null,
      "outputs": []
    },
    {
      "metadata": {
        "trusted": false
      },
      "cell_type": "code",
      "source": "",
      "execution_count": null,
      "outputs": []
    },
    {
      "metadata": {
        "trusted": false
      },
      "cell_type": "code",
      "source": "",
      "execution_count": null,
      "outputs": []
    },
    {
      "metadata": {
        "trusted": false
      },
      "cell_type": "code",
      "source": "",
      "execution_count": null,
      "outputs": []
    },
    {
      "metadata": {
        "trusted": false
      },
      "cell_type": "code",
      "source": "",
      "execution_count": null,
      "outputs": []
    },
    {
      "metadata": {
        "trusted": false
      },
      "cell_type": "code",
      "source": "",
      "execution_count": null,
      "outputs": []
    },
    {
      "metadata": {
        "trusted": false
      },
      "cell_type": "code",
      "source": "",
      "execution_count": null,
      "outputs": []
    }
  ],
  "metadata": {
    "kernelspec": {
      "name": "python3",
      "display_name": "Python 3",
      "language": "python"
    },
    "language_info": {
      "mimetype": "text/x-python",
      "nbconvert_exporter": "python",
      "name": "python",
      "pygments_lexer": "ipython3",
      "version": "3.5.4",
      "file_extension": ".py",
      "codemirror_mode": {
        "version": 3,
        "name": "ipython"
      }
    }
  },
  "nbformat": 4,
  "nbformat_minor": 2
}